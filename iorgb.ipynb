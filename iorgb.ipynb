{
  "nbformat": 4,
  "nbformat_minor": 0,
  "metadata": {
    "colab": {
      "provenance": []
    },
    "kernelspec": {
      "name": "python3",
      "display_name": "Python 3"
    },
    "language_info": {
      "name": "python"
    }
  },
  "cells": [
    {
      "cell_type": "code",
      "execution_count": null,
      "metadata": {
        "colab": {
          "base_uri": "https://localhost:8080/"
        },
        "id": "9zkeJaHWutW5",
        "outputId": "cab2f5c1-877d-4de2-c98d-84cc624bfed1"
      },
      "outputs": [
        {
          "output_type": "stream",
          "name": "stdout",
          "text": [
            "Mounted at /content/drive\n"
          ]
        }
      ],
      "source": [
        "# import important libraries\n",
        "import pandas\n",
        "import matplotlib.pyplot as plt\n",
        "from matplotlib import image\n",
        "from PIL import Image\n",
        "import numpy as np\n",
        "\n",
        "from google.colab import drive\n",
        "\n",
        "# mount folder from personal google drive\n",
        "drive.mount('/content/drive')"
      ]
    },
    {
      "cell_type": "code",
      "source": [
        "# path to a image\n",
        "path = '/content/drive/MyDrive/InformacjaObrazowa/image/rose.png'\n",
        "\n",
        "# open image and put it into a variable called 'obrazek'\n",
        "obrazek = image.imread(path)\n",
        "\n",
        "# print data type of obrazek\n",
        "print(obrazek.dtype)\n",
        "\n",
        "# print shape of matrix made from loaded image\n",
        "print(obrazek.shape)\n",
        "\n",
        "# show image in a form of 2D plot\n",
        "plt.imshow(obrazek)\n",
        "\n",
        "# save figure with name as in path + suffix\n",
        "plt.savefig(path+'-drugi.png')\n",
        "plt.show()\n",
        "\n",
        "\n"
      ],
      "metadata": {
        "id": "sH0z1vmJvlaA"
      },
      "execution_count": null,
      "outputs": []
    },
    {
      "cell_type": "code",
      "source": [
        "# make a linear plot of values from blue channel along horizontal axis\n",
        "plt.plot(obrazek[400,:,2])\n",
        "\n",
        "# save plot to a SVG file\n",
        "plt.savefig(path+'-plot.svg')"
      ],
      "metadata": {
        "id": "OgyNJvByyjVy"
      },
      "execution_count": null,
      "outputs": []
    },
    {
      "cell_type": "code",
      "source": [
        "# mix channels of obrazek in a copy named 'nowy', change original RGB to GBR\n",
        "nowy = obrazek\n",
        "nowy[:,:,0] = obrazek[:,:,1]\n",
        "nowy[:,:,1] = obrazek[:,:,2]\n",
        "nowy[:,:,2] = obrazek[:,:,0]\n",
        "\n",
        "# crop image to selected range of pixels\n",
        "trim = nowy[100:400,100:350,:]\n",
        "plt.imshow(trim)"
      ],
      "metadata": {
        "id": "JB1ZsdkSzk5e"
      },
      "execution_count": null,
      "outputs": []
    },
    {
      "cell_type": "code",
      "source": [
        "# save cropped image as a normal image (not plot) with convertion from float to 8-bit unsigned integer (values from 0 to 255)\n",
        "Image.fromarray((trim*255).astype(np.uint8)).save(path+'-trim.png')"
      ],
      "metadata": {
        "id": "8ifKwm3D0ktq"
      },
      "execution_count": null,
      "outputs": []
    }
  ]
}
