{
  "nbformat": 4,
  "nbformat_minor": 0,
  "metadata": {
    "colab": {
      "provenance": []
    },
    "kernelspec": {
      "name": "python3",
      "display_name": "Python 3"
    },
    "language_info": {
      "name": "python"
    }
  },
  "cells": [
    {
      "cell_type": "code",
      "execution_count": null,
      "metadata": {
        "id": "GbCjpHhVX0eC"
      },
      "outputs": [],
      "source": [
        "# Install library for processing raster files RasterIO and import it\n",
        "#!pip install rioxarray\n",
        "import rioxarray as rxr\n",
        "import numpy as np\n",
        "#Import library for plotting\n",
        "import matplotlib.pyplot as plt\n",
        "\n",
        "# mount folder from personal google drive\n",
        "from google.colab import drive\n",
        "drive.mount('/content/drive')"
      ]
    },
    {
      "cell_type": "code",
      "source": [
        "# Path to the hypercube\n",
        "path = \"drive/MyDrive/InformacjaObrazowa/image/IO22hypercube.tif\"\n",
        "\n",
        "# Load image to a n-array\n",
        "hyper = rxr.open_rasterio(path)\n",
        "\n",
        "# Check shape of the final array (check which dimension represents spectral channels?)\n",
        "print(hyper.shape)\n",
        "\n",
        "# Generate list of channels in nm and print them\n",
        "channels = np.array([ float(ch.split(' ')[0]) for ch in hyper.long_name ])\n",
        "print(channels)\n",
        "\n",
        "\n"
      ],
      "metadata": {
        "id": "1vBKfGou-KzB"
      },
      "execution_count": null,
      "outputs": []
    },
    {
      "cell_type": "code",
      "source": [
        "## Create colour mosaic with selected channels for RGB image\n",
        "# Create an empty array with a proper size\n",
        "img = np.ndarray([1010,1010,3])\n",
        "# Assign 6th channel as red (622.64 nm )\n",
        "img[:,:,0] = hyper[6,:,:]\n",
        "# Assign 4th channel as green (582.59 nm)\n",
        "img[:,:,1] = hyper[4,:,:]\n",
        "# Assign 2nd channel as blue (502.67)\n",
        "img[:,:,2] = hyper[0,:,:]\n",
        "# Show image\n",
        "plt.imshow(img)\n",
        "plt.show()"
      ],
      "metadata": {
        "id": "Aov6zEmvG7e8"
      },
      "execution_count": null,
      "outputs": []
    },
    {
      "cell_type": "code",
      "source": [
        "# Base on function plot prepare a figure with spectral reflectance plot for two different textiles visible in the picture. Use variable \"channel\" as x value in plot(x,y). Value y should be taken from the hypercube.\n",
        "# Below are simple examples how to plot two lines on a figure. \n",
        "#   plot(   x    ,   y    , colour)\n",
        "plt.plot(channels,channels,'r')\n",
        "plt.plot(channels,channels+120,'b')\n",
        "plt.grid()\n",
        "plt.show()"
      ],
      "metadata": {
        "id": "4YVo6sWIG_hx"
      },
      "execution_count": null,
      "outputs": []
    }
  ]
}