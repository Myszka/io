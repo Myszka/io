{
  "nbformat": 4,
  "nbformat_minor": 0,
  "metadata": {
    "colab": {
      "provenance": []
    },
    "kernelspec": {
      "name": "python3",
      "display_name": "Python 3"
    },
    "language_info": {
      "name": "python"
    }
  },
  "cells": [
    {
      "cell_type": "code",
      "execution_count": null,
      "metadata": {
        "id": "A43Qa8FbNjrC"
      },
      "outputs": [],
      "source": [
        "import pandas\n",
        "import matplotlib.pyplot as plt\n",
        "from google.colab import drive\n",
        "drive.mount('/content/drive')"
      ]
    },
    {
      "cell_type": "code",
      "source": [
        "# Read data from therm software. Please take a look on the path. In example below file 'io22termogram.txt' is in a directory 'therm' on our gdrive.\n",
        "plik = pandas.read_csv('drive/MyDrive/therm/io22termogram.txt',delimiter='\\t',skiprows=3,index_col=0)\n",
        "\n",
        "# Show image in defined colormap https://matplotlib.org/1.2.1/mpl_examples/pylab_examples/show_colormaps.hires.png\n",
        "plt.imshow(plik,cmap='autumn')\n",
        "\n",
        "# # Select range of temperatures in brackets [min,max]\n",
        "plt.clim([0,20])\n",
        "\n",
        "# Show colorbar\n",
        "plt.colorbar()\n",
        "\n",
        "# Give title to the image\n",
        "plt.title('Termogram')\n",
        "\n",
        "# Save image to file\n",
        "plt.savefig('/content/drive/MyDrive/therm/thermalny.png')\n",
        "plt.savefig('/content/drive/MyDrive/therm/thermalny.pdf')\n",
        "\n",
        "\n",
        "# Show image on screen\n",
        "plt.show()\n",
        "\n",
        "# Plot of vertical line at pixel 300\n",
        "plt.plot(plik.iloc[:,300],'m+')\n",
        "plt.show()\n",
        "\n",
        "# Plot of horizontal line at pixel 220\n",
        "plt.plot(plik.iloc[220,:])\n",
        "plt.show()"
      ],
      "metadata": {
        "id": "NSsCW0j3eBpz"
      },
      "execution_count": null,
      "outputs": []
    },
    {
      "cell_type": "code",
      "source": [
        "# Definition of function for calculating series of pixel value changes (temperature changes)\n",
        "def tempseries(file,pixelx,pixely):\n",
        "\n",
        "  ''' Function for calculating change of pixel value in series of images.\n",
        "      Parameters: file - input files TXT from Therm, pixelx - selected column for analysis, pixely - selected row for analysis\n",
        "  '''\n",
        "  values = []\n",
        "  imgs = []\n",
        "  cnt=0\n",
        "\n",
        "  with open(file,'r') as f:\n",
        "      seria = f.readlines()\n",
        "\n",
        "  for i in seria:\n",
        "      if 'Image' in i:\n",
        "          imgs.append(cnt)\n",
        "      cnt+=1\n",
        "  \n",
        "  for px in imgs: values.append(float(seria[px+2+pixely].split('\\t')[pixelx+1]))\n",
        "    \n",
        "  return values\n",
        "\n",
        "# Generate list of temperatures from file (io22-czajnik) on the location 250,250 pixels (select the best pixel by your own)\n",
        "temps = tempseries('drive/MyDrive/therm/io22-czajnik.txt',250,250)\n",
        "\n",
        "# Generate plot of temperatures with black (k) and circle markers (o)\n",
        "plt.plot(temps,'ko')\n",
        "\n",
        "# Generate label for y-axis\n",
        "plt.ylabel('Temperature $^o$C')\n",
        "\n",
        "# Generate label for x-axis\n",
        "plt.xlabel('Time [s]')\n",
        "\n",
        "# Show grid on plot\n",
        "plt.grid()\n",
        "\n",
        "# Show plot\n",
        "plt.show()\n",
        "\n",
        "# Show list of temperatures\n",
        "print(temps)\n"
      ],
      "metadata": {
        "id": "RiLrNdyseHUq"
      },
      "execution_count": null,
      "outputs": []
    }
  ]
}
